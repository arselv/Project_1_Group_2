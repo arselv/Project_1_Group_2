{
 "cells": [
  {
   "cell_type": "code",
   "execution_count": 1,
   "metadata": {},
   "outputs": [],
   "source": [
    "%matplotlib widget"
   ]
  },
  {
   "cell_type": "code",
   "execution_count": 2,
   "metadata": {},
   "outputs": [],
   "source": [
    "# Beer Reviews Project"
   ]
  },
  {
   "cell_type": "code",
   "execution_count": 3,
   "metadata": {},
   "outputs": [],
   "source": [
    "# Kaggle Data Source\n",
    "#kaggle datasets download -d rdoume/beerreviews"
   ]
  },
  {
   "cell_type": "code",
   "execution_count": 4,
   "metadata": {},
   "outputs": [],
   "source": [
    "#Dependencies and Setup\n",
    "import matplotlib.pyplot as plt\n",
    "import pandas as pd\n",
    "import numpy as np\n",
    "import mpl_scatter_density\n"
   ]
  },
  {
   "cell_type": "code",
   "execution_count": 5,
   "metadata": {},
   "outputs": [],
   "source": [
    "# Importing resource file\n",
    "beer_data = pd.read_csv('Resources/beer_reviews.csv')\n",
    "# Displaying beer revie dataframe, note, 1,586,614 rows and 13 columns\n"
   ]
  },
  {
   "cell_type": "code",
   "execution_count": 6,
   "metadata": {},
   "outputs": [
    {
     "data": {
      "text/html": [
       "<div>\n",
       "<style scoped>\n",
       "    .dataframe tbody tr th:only-of-type {\n",
       "        vertical-align: middle;\n",
       "    }\n",
       "\n",
       "    .dataframe tbody tr th {\n",
       "        vertical-align: top;\n",
       "    }\n",
       "\n",
       "    .dataframe thead th {\n",
       "        text-align: right;\n",
       "    }\n",
       "</style>\n",
       "<table border=\"1\" class=\"dataframe\">\n",
       "  <thead>\n",
       "    <tr style=\"text-align: right;\">\n",
       "      <th></th>\n",
       "      <th>brewery_id</th>\n",
       "      <th>brewery_name</th>\n",
       "      <th>review_time</th>\n",
       "      <th>review_overall</th>\n",
       "      <th>review_aroma</th>\n",
       "      <th>review_appearance</th>\n",
       "      <th>review_profilename</th>\n",
       "      <th>beer_style</th>\n",
       "      <th>review_palate</th>\n",
       "      <th>review_taste</th>\n",
       "      <th>beer_name</th>\n",
       "      <th>beer_abv</th>\n",
       "      <th>beer_beerid</th>\n",
       "      <th>ALO</th>\n",
       "    </tr>\n",
       "  </thead>\n",
       "  <tbody>\n",
       "    <tr>\n",
       "      <th>0</th>\n",
       "      <td>10325</td>\n",
       "      <td>Vecchio Birraio</td>\n",
       "      <td>1234817823</td>\n",
       "      <td>1.5</td>\n",
       "      <td>2.0</td>\n",
       "      <td>2.5</td>\n",
       "      <td>stcules</td>\n",
       "      <td>Hefeweizen</td>\n",
       "      <td>1.5</td>\n",
       "      <td>1.5</td>\n",
       "      <td>Sausa Weizen</td>\n",
       "      <td>5.0</td>\n",
       "      <td>47986</td>\n",
       "      <td>Ale</td>\n",
       "    </tr>\n",
       "    <tr>\n",
       "      <th>1</th>\n",
       "      <td>10325</td>\n",
       "      <td>Vecchio Birraio</td>\n",
       "      <td>1235915097</td>\n",
       "      <td>3.0</td>\n",
       "      <td>2.5</td>\n",
       "      <td>3.0</td>\n",
       "      <td>stcules</td>\n",
       "      <td>English Strong Ale</td>\n",
       "      <td>3.0</td>\n",
       "      <td>3.0</td>\n",
       "      <td>Red Moon</td>\n",
       "      <td>6.2</td>\n",
       "      <td>48213</td>\n",
       "      <td>Ale</td>\n",
       "    </tr>\n",
       "    <tr>\n",
       "      <th>2</th>\n",
       "      <td>10325</td>\n",
       "      <td>Vecchio Birraio</td>\n",
       "      <td>1235916604</td>\n",
       "      <td>3.0</td>\n",
       "      <td>2.5</td>\n",
       "      <td>3.0</td>\n",
       "      <td>stcules</td>\n",
       "      <td>Foreign / Export Stout</td>\n",
       "      <td>3.0</td>\n",
       "      <td>3.0</td>\n",
       "      <td>Black Horse Black Beer</td>\n",
       "      <td>6.5</td>\n",
       "      <td>48215</td>\n",
       "      <td>Ale</td>\n",
       "    </tr>\n",
       "    <tr>\n",
       "      <th>3</th>\n",
       "      <td>10325</td>\n",
       "      <td>Vecchio Birraio</td>\n",
       "      <td>1234725145</td>\n",
       "      <td>3.0</td>\n",
       "      <td>3.0</td>\n",
       "      <td>3.5</td>\n",
       "      <td>stcules</td>\n",
       "      <td>German Pilsener</td>\n",
       "      <td>2.5</td>\n",
       "      <td>3.0</td>\n",
       "      <td>Sausa Pils</td>\n",
       "      <td>5.0</td>\n",
       "      <td>47969</td>\n",
       "      <td>Lager</td>\n",
       "    </tr>\n",
       "    <tr>\n",
       "      <th>4</th>\n",
       "      <td>1075</td>\n",
       "      <td>Caldera Brewing Company</td>\n",
       "      <td>1293735206</td>\n",
       "      <td>4.0</td>\n",
       "      <td>4.5</td>\n",
       "      <td>4.0</td>\n",
       "      <td>johnmichaelsen</td>\n",
       "      <td>American Double / Imperial IPA</td>\n",
       "      <td>4.0</td>\n",
       "      <td>4.5</td>\n",
       "      <td>Cauldron DIPA</td>\n",
       "      <td>7.7</td>\n",
       "      <td>64883</td>\n",
       "      <td>Ale</td>\n",
       "    </tr>\n",
       "  </tbody>\n",
       "</table>\n",
       "</div>"
      ],
      "text/plain": [
       "   brewery_id             brewery_name  review_time  review_overall  \\\n",
       "0       10325          Vecchio Birraio   1234817823             1.5   \n",
       "1       10325          Vecchio Birraio   1235915097             3.0   \n",
       "2       10325          Vecchio Birraio   1235916604             3.0   \n",
       "3       10325          Vecchio Birraio   1234725145             3.0   \n",
       "4        1075  Caldera Brewing Company   1293735206             4.0   \n",
       "\n",
       "   review_aroma  review_appearance review_profilename  \\\n",
       "0           2.0                2.5            stcules   \n",
       "1           2.5                3.0            stcules   \n",
       "2           2.5                3.0            stcules   \n",
       "3           3.0                3.5            stcules   \n",
       "4           4.5                4.0     johnmichaelsen   \n",
       "\n",
       "                       beer_style  review_palate  review_taste  \\\n",
       "0                      Hefeweizen            1.5           1.5   \n",
       "1              English Strong Ale            3.0           3.0   \n",
       "2          Foreign / Export Stout            3.0           3.0   \n",
       "3                 German Pilsener            2.5           3.0   \n",
       "4  American Double / Imperial IPA            4.0           4.5   \n",
       "\n",
       "                beer_name  beer_abv  beer_beerid    ALO  \n",
       "0            Sausa Weizen       5.0        47986    Ale  \n",
       "1                Red Moon       6.2        48213    Ale  \n",
       "2  Black Horse Black Beer       6.5        48215    Ale  \n",
       "3              Sausa Pils       5.0        47969  Lager  \n",
       "4           Cauldron DIPA       7.7        64883    Ale  "
      ]
     },
     "execution_count": 6,
     "metadata": {},
     "output_type": "execute_result"
    }
   ],
   "source": [
    "# Unique brew sytles broken up into Ale, Lager, or other. This dictionary will classify each beer, and add a new column with details.\n",
    "beer_style_dictionary = {'Hefeweizen':'Ale', 'English Strong Ale':'Ale','Foreign / Export Stout':'Ale','American Double / Imperial IPA':'Ale', 'Oatmeal Stout':'Ale', \n",
    "        'American Pale Ale (APA)':'Ale', 'American Porter':'Ale', 'Belgian Strong Dark Ale':'Ale', 'American IPA':'Ale', 'American Stout':'Ale',\n",
    "        'Russian Imperial Stout':'Ale', 'American Amber / Red Ale':'Ale', 'American Strong Ale':'Ale', 'American Blonde Ale':'Ale', \n",
    "        'English Brown Ale':'Ale', 'Scotch Ale / Wee Heavy':'Ale', 'American Double / Imperial Stout':'Ale', 'Belgian Pale Ale':'Ale', \n",
    "        'English Bitter':'Ale', 'English Porter':'Ale', 'Irish Dry Stout':'Ale', 'Belgian Strong Pale Ale':'Ale', 'Pumpkin Ale':'Ale', 'Weizenbock':'Ale', \n",
    "        'Extra Special / Strong Bitter (ESB)':'Ale', 'English India Pale Ale (IPA)':'Ale', 'American Pale Wheat Ale':'Ale', 'Milk / Sweet Stout':'Ale', \n",
    "        'Scottish Ale':'Ale', 'American Black Ale':'Ale', 'Saison / Farmhouse Ale':'Ale', 'English Dark Mild Ale':'Ale', 'English Pale Ale':'Ale', \n",
    "        'Belgian IPA':'Ale', 'Tripel':'Ale', 'American Brown Ale':'Ale', 'Dubbel':'Ale', 'Flanders Red Ale':'Ale', 'Roggenbier':'Ale', 'Belgian Dark Ale':'Ale', \n",
    "        'Bière de Garde':'Ale', 'Irish Red Ale':'Ale', 'English Stout':'Ale', 'Cream Ale':'Ale', 'American Wild Ale':'Ale', 'Scottish Gruit / Ancient Herbed Ale':'Ale',\n",
    "       'Wheatwine':'Ale', 'American Dark Wheat Ale':'Ale', 'Baltic Porter':'Ale', 'Kristalweizen':'Ale', 'English Pale Mild Ale':'Ale', 'Old Ale':'Ale', 'Quadrupel (Quad)':'Ale', \n",
    "       'Gose':'Ale','German Pilsener':'Lager', 'Light Lager':'Lager', 'American Pale Lager':'Lager', 'Rauchbier':'Lager', 'Märzen / Oktoberfest':'Lager', \n",
    "          'American Adjunct Lager':'Lager', 'Euro Pale Lager':'Lager', 'American Barleywine':'Lager', 'Doppelbock':'Lager', 'Maibock / Helles Bock':'Lager', \n",
    "          'Dortmunder / Export Lager':'Lager', 'Euro Strong Lager':'Lager', 'Euro Dark Lager':'Lager', 'Bock':'Lager', 'Munich Dunkel Lager':'Lager', \n",
    "          'Schwarzbier':'Lager', 'Vienna Lager':'Lager', 'American Amber / Red Lager':'Lager', \n",
    "          'Witbier':'Lager', 'Czech Pilsener':'Lager', 'Dunkelweizen':'Lager', 'Keller Bier / Zwickel Bier':'Lager', 'Japanese Rice Lager':'Lager', \n",
    "          'American Double / Imperial Pilsner':'Lager', 'Munich Helles Lager':'Lager', 'Eisbock':'Lager', 'Herbed / Spiced Beer':'Other', 'Fruit / Vegetable Beer':'Other', 'Low Alcohol Beer':'Other', 'Altbier':'Other', 'Kölsch':'Other', 'Rye Beer':'Other', \n",
    "         'English Barleywine':'Other', 'California Common / Steam Beer':'Other', 'Flanders Oud Bruin':'Other', 'Winter Warmer':'Other', 'Smoked Beer':'Other', 'Black & Tan':'Other', \n",
    "        'Chile Beer':'Other', 'American Malt Liquor':'Other', 'Lambic - Fruit':'Other', 'Braggot':'Other', 'Lambic - Unblended':'Other', 'Berliner Weissbier':'Other', 'Kvass':'Other', 'Faro':'Other',\n",
    "        'Gueuze':'Other', 'Happoshu':'Other', 'Sahti':'Other', 'Bière de Champagne / Bière Brut':'Other'}\n",
    "\n",
    "beer_data['ALO'] = ''\n",
    "beer_data['ALO'] = beer_data['beer_style'].map(beer_style_dictionary)\n",
    "beer_data.head()\n"
   ]
  },
  {
   "cell_type": "code",
   "execution_count": 7,
   "metadata": {},
   "outputs": [],
   "source": [
    "# Separate Ales from Lagers and Others\n",
    "beer_data_ale = beer_data[beer_data.ALO == \"Ale\"]\n",
    "beer_data_ale\n",
    "\n",
    "# Calculate Character Count\n",
    "character_count_ale = beer_data_ale['beer_name'].str.len()\n",
    "character_count_series = pd.Series(character_count_ale)\n",
    "\n",
    "overall_review_ale = beer_data_ale['review_overall']\n",
    "overall_review_series = pd.Series(overall_review_ale)\n",
    "\n",
    "# Character Count Dataframe\n",
    "marketing_ale = {'Ale Character Count': character_count_series, 'Overall Review': overall_review_series}\n",
    "marketing_ale_DF = pd.DataFrame(marketing_ale)"
   ]
  },
  {
   "cell_type": "code",
   "execution_count": 8,
   "metadata": {},
   "outputs": [
    {
     "data": {
      "application/vnd.jupyter.widget-view+json": {
       "model_id": "723df515fe4b45ecbfdf282ef5821f4d",
       "version_major": 2,
       "version_minor": 0
      },
      "text/plain": [
       "Canvas(toolbar=Toolbar(toolitems=[('Home', 'Reset original view', 'home', 'home'), ('Back', 'Back to previous …"
      ]
     },
     "metadata": {},
     "output_type": "display_data"
    }
   ],
   "source": [
    "#Plot information for Ale Character Count\n",
    "\n",
    "marketing_ale_DF.plot.scatter(x='Ale Character Count', y='Overall Review', marker=\"o\", facecolors=\"red\", edgecolors=\"black\",\n",
    "              s=None, alpha=0.75)\n",
    "plt.show()\n",
    "plt.savefig('Ale_Character_Scatter_01.png')\n"
   ]
  },
  {
   "cell_type": "code",
   "execution_count": 9,
   "metadata": {},
   "outputs": [
    {
     "data": {
      "application/vnd.jupyter.widget-view+json": {
       "model_id": "40b6cab9bb84492dad16b341728001a7",
       "version_major": 2,
       "version_minor": 0
      },
      "text/plain": [
       "Canvas(toolbar=Toolbar(toolitems=[('Home', 'Reset original view', 'home', 'home'), ('Back', 'Back to previous …"
      ]
     },
     "metadata": {},
     "output_type": "display_data"
    },
    {
     "name": "stderr",
     "output_type": "stream",
     "text": [
      "/Users/stonehenge/anaconda3/lib/python3.7/site-packages/mpl_scatter_density/generic_density_artist.py:74: RuntimeWarning: All-NaN slice encountered\n",
      "  vmin = self._density_vmin(array)\n",
      "/Users/stonehenge/anaconda3/lib/python3.7/site-packages/mpl_scatter_density/generic_density_artist.py:79: RuntimeWarning: All-NaN slice encountered\n",
      "  vmax = self._density_vmax(array)\n"
     ]
    }
   ],
   "source": [
    "#Plot information for Ale Character Count Density\n",
    "fig = plt.figure()\n",
    "ax = fig.add_subplot(1, 1, 1, projection='scatter_density')\n",
    "\n",
    "x = character_count_ale\n",
    "y = overall_review_ale\n",
    "ax.scatter_density(x, y, color='blue')\n",
    "\n",
    "fig.savefig('Ale_Character_Scatter_Density_1.png')"
   ]
  },
  {
   "cell_type": "code",
   "execution_count": 10,
   "metadata": {},
   "outputs": [
    {
     "data": {
      "application/vnd.jupyter.widget-view+json": {
       "model_id": "aefc22ec4d3547b7bf4333580975f921",
       "version_major": 2,
       "version_minor": 0
      },
      "text/plain": [
       "Canvas(toolbar=Toolbar(toolitems=[('Home', 'Reset original view', 'home', 'home'), ('Back', 'Back to previous …"
      ]
     },
     "metadata": {},
     "output_type": "display_data"
    }
   ],
   "source": [
    "#Plot information for Ale Character Count Density\n",
    "\n",
    "marketing_ale_DF.plot(kind=\"kde\", x=\"Overall Review\", y=\"Ale Character Count\")\n",
    "\n",
    "plt.show()\n",
    "plt.savefig('Ale_Character_Scatter_Density_2.png')\n",
    "\n"
   ]
  },
  {
   "cell_type": "code",
   "execution_count": null,
   "metadata": {},
   "outputs": [],
   "source": []
  }
 ],
 "metadata": {
  "kernelspec": {
   "display_name": "Python 3",
   "language": "python",
   "name": "python3"
  },
  "language_info": {
   "codemirror_mode": {
    "name": "ipython",
    "version": 3
   },
   "file_extension": ".py",
   "mimetype": "text/x-python",
   "name": "python",
   "nbconvert_exporter": "python",
   "pygments_lexer": "ipython3",
   "version": "3.7.6"
  }
 },
 "nbformat": 4,
 "nbformat_minor": 4
}
